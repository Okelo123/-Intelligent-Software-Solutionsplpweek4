{
  "nbformat": 4,
  "nbformat_minor": 0,
  "metadata": {
    "colab": {
      "provenance": [],
      "include_colab_link": true
    },
    "kernelspec": {
      "name": "python3",
      "display_name": "Python 3"
    },
    "language_info": {
      "name": "python"
    }
  },
  "cells": [
    {
      "cell_type": "markdown",
      "metadata": {
        "id": "view-in-github",
        "colab_type": "text"
      },
      "source": [
        "<a href=\"https://colab.research.google.com/github/Okelo123/-Intelligent-Software-Solutionsplpweek4/blob/main/plpAss4Building_Intelligent_Solutions.ipynb\" target=\"_parent\"><img src=\"https://colab.research.google.com/assets/colab-badge.svg\" alt=\"Open In Colab\"/></a>"
      ]
    },
    {
      "cell_type": "code",
      "execution_count": null,
      "metadata": {
        "colab": {
          "base_uri": "https://localhost:8080/"
        },
        "id": "6Ae9gK0Hffrp",
        "outputId": "656148cb-26e4-4112-ee52-0ba9eeae852c"
      },
      "outputs": [
        {
          "output_type": "stream",
          "name": "stdout",
          "text": [
            "Manual: [{'name': 'Juma', 'age': 10}, {'name': 'Bily', 'age': 25}, {'name': 'Agnes', 'age': 35}]\n",
            "AI-Suggested: [{'name': 'Juma', 'age': 10}, {'name': 'Bily', 'age': 25}, {'name': 'Agnes', 'age': 35}]\n"
          ]
        }
      ],
      "source": [
        "# 📘 AI-Powered Software Engineering Project\n",
        "\n",
        "#Brian Okelo\n",
        "# --------------------------------\n",
        "# Task 1: AI-Powered Code Completion\n",
        "# --------------------------------\n",
        "\n",
        "# ✅ Manual Implementation\n",
        "\n",
        "def sort_dicts_by_key(data, key):\n",
        "    return sorted(data, key=lambda x: x[key])\n",
        "\n",
        "# Sample Data\n",
        "people = [\n",
        "    {\"name\": \"Juma\", \"age\": 10},\n",
        "    {\"name\": \"Bily\", \"age\": 25},\n",
        "    {\"name\": \"Agnes\", \"age\": 35}\n",
        "]\n",
        "\n",
        "# Test\n",
        "sorted_manual = sort_dicts_by_key(people, \"age\")\n",
        "print(\"Manual:\", sorted_manual)\n",
        "\n",
        "# ✅ Simulated AI-Suggested Version (similar, as Copilot often suggests this pattern)\n",
        "def sort_people_by_key(people_list, key):\n",
        "    return sorted(people_list, key=lambda person: person.get(key, 0))\n",
        "\n",
        "sorted_ai = sort_people_by_key(people, \"age\")\n",
        "print(\"AI-Suggested:\", sorted_ai)"
      ]
    },
    {
      "cell_type": "markdown",
      "source": [
        "# ✅ Analysis Summary\n",
        "analysis_task1 = \"\"\"\n",
        "Both the manual and AI-suggested implementations use Python's built-in `sorted()` with a lambda function,\n",
        "resulting in efficient sorting via Timsort (O(n log n)).\n",
        "\n",
        "AI-generated solutions like Copilot enhance productivity by reducing the need to remember syntax or edge case handling.\n",
        "While both versions are equally efficient, the AI version saves time and minimizes cognitive load.\n",
        "\"\"\""
      ],
      "metadata": {
        "id": "c5u0mK9H6mCB"
      }
    },
    {
      "cell_type": "code",
      "source": [
        "#\n",
        "# --------------------------------\n",
        "# Task 2: Automated Testing with AI (Selenium)\n",
        "# --------------------------------\n",
        "\n",
        "# 🚀 Install Requirements\n",
        "!apt-get update\n",
        "!apt install chromium-chromedriver -qq\n",
        "!cp /usr/lib/chromium-browser/chromedriver /usr/bin\n",
        "!pip install selenium fpdf\n",
        "\n",
        "# ✅ Test Script with Screenshot\n",
        "from selenium import webdriver\n",
        "from selenium.webdriver.chrome.options import Options\n",
        "from selenium.webdriver.common.by import By\n",
        "import time\n",
        "import os\n",
        "\n",
        "# Configure headless Chrome for Colab\n",
        "def run_selenium_tests():\n",
        "    options = Options()\n",
        "    options.add_argument('--headless')\n",
        "    options.add_argument('--no-sandbox')\n",
        "    options.add_argument('--disable-dev-shm-usage')\n",
        "\n",
        "    driver = webdriver.Chrome(options=options)\n",
        "\n",
        "    valid_path = \"valid_login.png\"\n",
        "    invalid_path = \"invalid_login.png\"\n",
        "\n",
        "    try:\n",
        "        # Valid Login Test\n",
        "        driver.get(\"https://practicetestautomation.com/practice-test-login/\")\n",
        "        driver.find_element(By.ID, \"username\").send_keys(\"student\")\n",
        "        driver.find_element(By.ID, \"password\").send_keys(\"Password123\")\n",
        "        driver.find_element(By.ID, \"submit\").click()\n",
        "        time.sleep(2)\n",
        "        driver.save_screenshot(valid_path)\n",
        "\n",
        "        # Invalid Login Test\n",
        "        driver.get(\"https://practicetestautomation.com/practice-test-login/\")\n",
        "        driver.find_element(By.ID, \"username\").send_keys(\"invalid\")\n",
        "        driver.find_element(By.ID, \"password\").send_keys(\"wrongpass\")\n",
        "        driver.find_element(By.ID, \"submit\").click()\n",
        "        time.sleep(2)\n",
        "        driver.save_screenshot(invalid_path)\n",
        "\n",
        "    except Exception as e:\n",
        "       print(f\"Could not regenerate screenshots for cleanup demo: {e}\")\n",
        "    finally:\n",
        "        driver.quit()\n",
        "\n",
        "        # Remove the generated screenshot files\n",
        "        if os.path.exists(valid_path):\n",
        "            os.remove(valid_path)\n",
        "            print(f\"Removed {valid_path}\")\n",
        "\n",
        "        if os.path.exists(invalid_path):\n",
        "            os.remove(invalid_path)\n",
        "            print(f\"Removed {invalid_path}\")\n",
        "\n",
        "    # If you generated new screenshots using the template, uncomment and add lines to remove them here:\n",
        "    # if os.path.exists(new_valid_path):\n",
        "    #     os.remove(new_valid_path)\n",
        "    #     print(f\"Removed {new_valid_path}\")\n",
        "    #\n",
        "    # if os.path.exists(new_invalid_path):\n",
        "    #     os.remove(new_invalid_path)\n",
        "    #     print(f\"Removed {new_invalid_path}\")\n",
        "\n",
        "\n",
        "    # Ensure the browser instance is closed (already done in the regeneration part, but good practice to include)\n",
        "    # driver.quit() # Uncomment this line if you remove the regeneration part above\n",
        "    print(\"Cleanup complete.\")\n",
        "    return valid_path, invalid_path\n",
        "\n",
        "valid_img, invalid_img = run_selenium_tests()"
      ],
      "metadata": {
        "id": "Utdt2eF_f5Lm",
        "colab": {
          "base_uri": "https://localhost:8080/"
        },
        "outputId": "edcb14af-87cb-4286-895f-45de1f181f86"
      },
      "execution_count": null,
      "outputs": [
        {
          "output_type": "stream",
          "name": "stdout",
          "text": [
            "\r0% [Working]\r            \rHit:1 https://developer.download.nvidia.com/compute/cuda/repos/ubuntu2204/x86_64  InRelease\n",
            "\r0% [Waiting for headers] [Waiting for headers] [Connected to cloud.r-project.or\r                                                                               \rHit:2 https://cloud.r-project.org/bin/linux/ubuntu jammy-cran40/ InRelease\n",
            "Hit:3 https://r2u.stat.illinois.edu/ubuntu jammy InRelease\n",
            "Hit:4 https://ppa.launchpadcontent.net/deadsnakes/ppa/ubuntu jammy InRelease\n",
            "Hit:5 https://ppa.launchpadcontent.net/graphics-drivers/ppa/ubuntu jammy InRelease\n",
            "Hit:6 https://ppa.launchpadcontent.net/ubuntugis/ppa/ubuntu jammy InRelease\n",
            "Hit:7 http://archive.ubuntu.com/ubuntu jammy InRelease\n",
            "Hit:8 http://security.ubuntu.com/ubuntu jammy-security InRelease\n",
            "Hit:9 http://archive.ubuntu.com/ubuntu jammy-updates InRelease\n",
            "Hit:10 http://archive.ubuntu.com/ubuntu jammy-backports InRelease\n",
            "Reading package lists... Done\n",
            "W: Skipping acquire of configured file 'main/source/Sources' as repository 'https://r2u.stat.illinois.edu/ubuntu jammy InRelease' does not seem to provide it (sources.list entry misspelt?)\n",
            "chromium-chromedriver is already the newest version (1:85.0.4183.83-0ubuntu2.22.04.1).\n",
            "0 upgraded, 0 newly installed, 0 to remove and 35 not upgraded.\n",
            "cp: '/usr/lib/chromium-browser/chromedriver' and '/usr/bin/chromedriver' are the same file\n",
            "Requirement already satisfied: selenium in /usr/local/lib/python3.11/dist-packages (4.34.0)\n",
            "Requirement already satisfied: fpdf in /usr/local/lib/python3.11/dist-packages (1.7.2)\n",
            "Requirement already satisfied: urllib3~=2.4.0 in /usr/local/lib/python3.11/dist-packages (from urllib3[socks]~=2.4.0->selenium) (2.4.0)\n",
            "Requirement already satisfied: trio~=0.30.0 in /usr/local/lib/python3.11/dist-packages (from selenium) (0.30.0)\n",
            "Requirement already satisfied: trio-websocket~=0.12.2 in /usr/local/lib/python3.11/dist-packages (from selenium) (0.12.2)\n",
            "Requirement already satisfied: certifi>=2025.4.26 in /usr/local/lib/python3.11/dist-packages (from selenium) (2025.6.15)\n",
            "Requirement already satisfied: typing_extensions~=4.14.0 in /usr/local/lib/python3.11/dist-packages (from selenium) (4.14.0)\n",
            "Requirement already satisfied: websocket-client~=1.8.0 in /usr/local/lib/python3.11/dist-packages (from selenium) (1.8.0)\n",
            "Requirement already satisfied: attrs>=23.2.0 in /usr/local/lib/python3.11/dist-packages (from trio~=0.30.0->selenium) (25.3.0)\n",
            "Requirement already satisfied: sortedcontainers in /usr/local/lib/python3.11/dist-packages (from trio~=0.30.0->selenium) (2.4.0)\n",
            "Requirement already satisfied: idna in /usr/local/lib/python3.11/dist-packages (from trio~=0.30.0->selenium) (3.10)\n",
            "Requirement already satisfied: outcome in /usr/local/lib/python3.11/dist-packages (from trio~=0.30.0->selenium) (1.3.0.post0)\n",
            "Requirement already satisfied: sniffio>=1.3.0 in /usr/local/lib/python3.11/dist-packages (from trio~=0.30.0->selenium) (1.3.1)\n",
            "Requirement already satisfied: wsproto>=0.14 in /usr/local/lib/python3.11/dist-packages (from trio-websocket~=0.12.2->selenium) (1.2.0)\n",
            "Requirement already satisfied: pysocks!=1.5.7,<2.0,>=1.5.6 in /usr/local/lib/python3.11/dist-packages (from urllib3[socks]~=2.4.0->selenium) (1.7.1)\n",
            "Requirement already satisfied: h11<1,>=0.9.0 in /usr/local/lib/python3.11/dist-packages (from wsproto>=0.14->trio-websocket~=0.12.2->selenium) (0.16.0)\n",
            "Removed valid_login.png\n",
            "Removed invalid_login.png\n",
            "Cleanup complete.\n"
          ]
        }
      ]
    },
    {
      "cell_type": "markdown",
      "source": [
        "# ✅ Summary\n",
        "# ***summary_task2 ***\n",
        "AI-based test automation tools such as Testim or Selenium with smart locators improve test coverage by adapting\n",
        "to UI changes automatically and detecting dynamic elements. In this project, we simulated login test cases\n",
        "with valid and invalid inputs.\n",
        "\n",
        "Screenshots were taken to visually confirm test results, reducing ambiguity and improving debugging.\n",
        "AI makes the testing process scalable and less fragile.\n",
        "\"\"\""
      ],
      "metadata": {
        "id": "UAACj9VO7dE_"
      }
    },
    {
      "cell_type": "code",
      "source": [
        "# --------------------------------\n",
        "# Task 3: Predictive Analytics (Breast Cancer Dataset)\n",
        "# --------------------------------\n",
        "\n",
        "# ✅ Install and Import Libraries\n",
        "from sklearn.datasets import load_breast_cancer\n",
        "from sklearn.ensemble import RandomForestClassifier\n",
        "from sklearn.model_selection import train_test_split\n",
        "from sklearn.preprocessing import LabelEncoder\n",
        "from sklearn.metrics import accuracy_score, f1_score\n",
        "import pandas as pd\n",
        "\n",
        "# ✅ Load Dataset and Preprocess\n",
        "data = load_breast_cancer()\n",
        "df = pd.DataFrame(data.data, columns=data.feature_names)\n",
        "df['target'] = data.target\n",
        "\n",
        "# Simulate priority levels based on cancer class\n",
        "priority_map = {0: \"high\", 1: \"low\"}\n",
        "df['priority'] = df['target'].map(priority_map)\n",
        "\n",
        "# Encode labels\n",
        "le = LabelEncoder()\n",
        "df['priority_encoded'] = le.fit_transform(df['priority'])\n",
        "\n",
        "# ✅ Split Dataset\n",
        "X = df.drop(columns=[\"target\", \"priority\", \"priority_encoded\"])\n",
        "y = df['priority_encoded']\n",
        "X_train, X_test, y_train, y_test = train_test_split(X, y, test_size=0.2, random_state=42)\n",
        "\n",
        "# ✅ Train Model\n",
        "clf = RandomForestClassifier(random_state=42)\n",
        "clf.fit(X_train, y_train)\n",
        "\n",
        "# ✅ Evaluate Model\n",
        "y_pred = clf.predict(X_test)\n",
        "accuracy = accuracy_score(y_test, y_pred)\n",
        "f1 = f1_score(y_test, y_pred)\n",
        "\n",
        "print(\"Accuracy:\", accuracy)\n",
        "print(\"F1 Score:\", f1)\n",
        "\n",
        "# ✅ Analysis Summary for Task 1\n",
        "analysis_task1 = \"\"\"\n",
        "Both the manual and AI-suggested implementations use Python's built-in `sorted()` with a lambda function,\n",
        "resulting in efficient sorting via Timsort (O(n log n)).\n",
        "\n",
        "AI-generated solutions like Copilot enhance productivity by reducing the need to remember syntax or edge case handling.\n",
        "While both versions are equally efficient, the AI version saves time and minimizes cognitive load.\n",
        "\"\"\"\n",
        "\n",
        "# ✅ Summary for Task 2\n",
        "summary_task2 = \"\"\"\n",
        "AI-based test automation tools such as Testim or Selenium with smart locators improve test coverage by adapting\n",
        "to UI changes automatically and detecting dynamic elements. In this project, we simulated login test cases\n",
        "with valid and invalid inputs.\n",
        "\n",
        "Screenshots were taken to visually confirm test results, reducing ambiguity and improving debugging.\n",
        "AI makes the testing process scalable and less fragile.\n",
        "\"\"\"\n",
        "\n",
        "# ✅ Task 3 Summary\n",
        "summary_task3 = f\"\"\"\n",
        "The Random Forest model achieved an accuracy of {accuracy:.2f} and an F1 score of {f1:.2f}, indicating reliable classification\n",
        "of issue priority levels (high vs. low). This predictive model can help allocate attention to more urgent cases in real-world applications.\n",
        "\"\"\"\n",
        "\n",
        "\n",
        "# --------------------------------\n",
        "# Part 3: Ethical Reflection (10%)\n",
        "# --------------------------------\n",
        "\n",
        "ethical_reflection = \"\"\"\n",
        "Bias in AI models can emerge if training data underrepresents certain populations. In our breast cancer dataset,\n",
        "a model trained on predominantly one demographic may perform poorly on others.\n",
        "\n",
        "To address this, tools like IBM AI Fairness 360 can assess and mitigate bias using fairness metrics and bias\n",
        "mitigation algorithms. These tools promote accountability, especially in healthcare and HR settings,\n",
        "where fairness is crucial.\n",
        "\"\"\"\n",
        "\n",
        "# Display deliverables\n",
        "print(\"\\n=== Task 1 Analysis ===\\n\", analysis_task1)\n",
        "print(\"\\n=== Task 2 Summary ===\\n\", summary_task2)\n",
        "print(\"\\n=== Task 3 Summary ===\\n\", summary_task3)\n",
        "print(\"\\n=== Ethical Reflection ===\\n\", ethical_reflection)\n",
        "print(\"\\nScreenshots saved as:\", valid_img, \"and\", invalid_img)"
      ],
      "metadata": {
        "id": "HfaVZjotgCQq",
        "colab": {
          "base_uri": "https://localhost:8080/"
        },
        "outputId": "713577a2-c590-4ee0-f091-dc113e3f3009"
      },
      "execution_count": null,
      "outputs": [
        {
          "output_type": "stream",
          "name": "stdout",
          "text": [
            "Accuracy: 0.9649122807017544\n",
            "F1 Score: 0.9722222222222222\n",
            "\n",
            "=== Task 1 Analysis ===\n",
            " \n",
            "Both the manual and AI-suggested implementations use Python's built-in `sorted()` with a lambda function,\n",
            "resulting in efficient sorting via Timsort (O(n log n)).\n",
            "\n",
            "AI-generated solutions like Copilot enhance productivity by reducing the need to remember syntax or edge case handling.\n",
            "While both versions are equally efficient, the AI version saves time and minimizes cognitive load.\n",
            "\n",
            "\n",
            "=== Task 2 Summary ===\n",
            " \n",
            "AI-based test automation tools such as Testim or Selenium with smart locators improve test coverage by adapting\n",
            "to UI changes automatically and detecting dynamic elements. In this project, we simulated login test cases\n",
            "with valid and invalid inputs.\n",
            "\n",
            "Screenshots were taken to visually confirm test results, reducing ambiguity and improving debugging.\n",
            "AI makes the testing process scalable and less fragile.\n",
            "\n",
            "\n",
            "=== Task 3 Summary ===\n",
            " \n",
            "The Random Forest model achieved an accuracy of 0.96 and an F1 score of 0.97, indicating reliable classification\n",
            "of issue priority levels (high vs. low). This predictive model can help allocate attention to more urgent cases in real-world applications.\n",
            "\n",
            "\n",
            "=== Ethical Reflection ===\n",
            " \n",
            "Bias in AI models can emerge if training data underrepresents certain populations. In our breast cancer dataset,\n",
            "a model trained on predominantly one demographic may perform poorly on others.\n",
            "\n",
            "To address this, tools like IBM AI Fairness 360 can assess and mitigate bias using fairness metrics and bias\n",
            "mitigation algorithms. These tools promote accountability, especially in healthcare and HR settings,\n",
            "where fairness is crucial.\n",
            "\n",
            "\n",
            "Screenshots saved as: valid_login.png and invalid_login.png\n"
          ]
        }
      ]
    },
    {
      "cell_type": "markdown",
      "source": [
        "# ✅ Task 3 Summary\n",
        "summary_task3 = f\"\"\"\n",
        "The Random Forest model achieved an accuracy of {accuracy:.2f} and an F1 score of {f1:.2f}, indicating reliable classification\n",
        "of issue priority levels (high vs. low). This predictive model can help allocate attention to more urgent cases in real-world applications.\n",
        "\"\"\""
      ],
      "metadata": {
        "id": "epv0ovw48CGF"
      }
    },
    {
      "cell_type": "markdown",
      "source": [
        "Summary:\n",
        "Data Analysis Key Findings\n",
        "The saved screenshots (valid_login.png and invalid_login.png) were successfully displayed within the Colab environment using IPython.display.\n",
        "A PDF report (test_report.pdf) was generated using fpdf, embedding the two screenshots and including descriptive text for valid and invalid login test results.\n",
        "Guidance was provided on how to adapt the Selenium code for a different website, detailing the required changes to the target URL, element locators, and login credentials. A code template was also provided to facilitate this adaptation.\n",
        "The generated screenshot files (valid_login.png and invalid_login.png) were successfully removed using the os.remove() function, and the Selenium browser instance was closed using driver.quit().\n",
        "Insights or Next Steps\n",
        "The provided template for adapting the code to different websites is a valuable resource for users looking to apply the Selenium testing framework to their specific needs.\n",
        "While the template execution failed due to placeholder values, the explanation and structure provided in the code block are sufficient for a user to implement the changes for their target website."
      ],
      "metadata": {
        "id": "N7Wmws4ZESst"
      }
    },
    {
      "cell_type": "code",
      "metadata": {
        "colab": {
          "base_uri": "https://localhost:8080/"
        },
        "id": "2126c999",
        "outputId": "b9279d35-f16b-494a-f674-ebef3a2eff97"
      },
      "source": [
        "# ✅ Explore another model: Support Vector Machine (SVM)\n",
        "from sklearn.svm import SVC\n",
        "\n",
        "# Train SVM model\n",
        "svm_clf = SVC(random_state=42)\n",
        "svm_clf.fit(X_train, y_train)\n",
        "\n",
        "# Evaluate SVM model\n",
        "y_pred_svm = svm_clf.predict(X_test)\n",
        "accuracy_svm = accuracy_score(y_test, y_pred_svm)\n",
        "f1_svm = f1_score(y_test, y_pred_svm)\n",
        "\n",
        "print(\"\\n=== SVM Model Evaluation ===\")\n",
        "print(\"Accuracy (SVM):\", accuracy_svm)\n",
        "print(\"F1 Score (SVM):\", f1_svm)\n",
        "\n",
        "# Compare with Random Forest\n",
        "print(\"\\n=== Model Comparison ===\")\n",
        "print(f\"Random Forest Accuracy: {accuracy:.2f}\")\n",
        "print(f\"SVM Accuracy: {accuracy_svm:.2f}\")\n",
        "print(f\"Random Forest F1 Score: {f1:.2f}\")\n",
        "print(f\"SVM F1 Score: {f1_svm:.2f}\")"
      ],
      "execution_count": null,
      "outputs": [
        {
          "output_type": "stream",
          "name": "stdout",
          "text": [
            "\n",
            "=== SVM Model Evaluation ===\n",
            "Accuracy (SVM): 0.9473684210526315\n",
            "F1 Score (SVM): 0.9594594594594594\n",
            "\n",
            "=== Model Comparison ===\n",
            "Random Forest Accuracy: 0.96\n",
            "SVM Accuracy: 0.95\n",
            "Random Forest F1 Score: 0.97\n",
            "SVM F1 Score: 0.96\n"
          ]
        }
      ]
    },
    {
      "cell_type": "markdown",
      "metadata": {
        "id": "555b1b77"
      },
      "source": [
        "# Task\n",
        "Explain the error in the provided Python code snippet, which appears to be related to using `GridSearchCV` with a `RandomForestClassifier`. If possible, fix the error and integrate the corrected code. Otherwise, diagnose the error and explain the issue."
      ]
    },
    {
      "cell_type": "markdown",
      "metadata": {
        "id": "d950bec0"
      },
      "source": [
        "## Import necessary libraries\n",
        "\n",
        "### Subtask:\n",
        "Import `GridSearchCV` from `sklearn.model_selection`.\n"
      ]
    },
    {
      "cell_type": "markdown",
      "metadata": {
        "id": "95cfa8be"
      },
      "source": [
        "**Reasoning**:\n",
        "The subtask is to import GridSearchCV from sklearn.model_selection.\n",
        "\n"
      ]
    },
    {
      "cell_type": "code",
      "metadata": {
        "id": "af585d9e"
      },
      "source": [
        "from sklearn.model_selection import GridSearchCV"
      ],
      "execution_count": null,
      "outputs": []
    },
    {
      "cell_type": "markdown",
      "metadata": {
        "id": "3bac6160"
      },
      "source": [
        "## Define the parameter grid\n",
        "\n",
        "### Subtask:\n",
        "Create a dictionary with the hyperparameters and their values to tune for the `RandomForestClassifier`.\n"
      ]
    },
    {
      "cell_type": "markdown",
      "metadata": {
        "id": "e27250c2"
      },
      "source": [
        "**Reasoning**:\n",
        "Create a dictionary named `param_grid` with the specified hyperparameters and their values for tuning the `RandomForestClassifier`.\n",
        "\n"
      ]
    },
    {
      "cell_type": "code",
      "metadata": {
        "id": "1abe3a91"
      },
      "source": [
        "param_grid = {\n",
        "    'n_estimators': [100, 200, 300],\n",
        "    'max_depth': [None, 10, 20],\n",
        "    'min_samples_split': [2, 5, 10],\n",
        "    'min_samples_leaf': [1, 2, 4]\n",
        "}"
      ],
      "execution_count": null,
      "outputs": []
    },
    {
      "cell_type": "markdown",
      "metadata": {
        "id": "b2d0db5d"
      },
      "source": [
        "## Initialize gridsearchcv\n",
        "\n",
        "### Subtask:\n",
        "Create a `GridSearchCV` object with the Random Forest model, the parameter grid, and cross-validation settings.\n"
      ]
    },
    {
      "cell_type": "markdown",
      "metadata": {
        "id": "34462a1e"
      },
      "source": [
        "**Reasoning**:\n",
        "Instantiate a RandomForestClassifier and then a GridSearchCV object as per the instructions.\n",
        "\n"
      ]
    },
    {
      "cell_type": "code",
      "metadata": {
        "id": "a28c491d"
      },
      "source": [
        "rf_clf = RandomForestClassifier(random_state=42)\n",
        "grid_search = GridSearchCV(estimator=rf_clf, param_grid=param_grid, cv=5)"
      ],
      "execution_count": null,
      "outputs": []
    },
    {
      "cell_type": "markdown",
      "metadata": {
        "id": "8e6d1808"
      },
      "source": [
        "## Fit gridsearchcv\n",
        "\n",
        "### Subtask:\n",
        "Fit the `GridSearchCV` object to the training data to find the best hyperparameters.\n"
      ]
    },
    {
      "cell_type": "markdown",
      "metadata": {
        "id": "d57733fb"
      },
      "source": [
        "**Reasoning**:\n",
        "Fit the GridSearchCV object to the training data to find the best hyperparameters.\n",
        "\n"
      ]
    },
    {
      "cell_type": "code",
      "metadata": {
        "colab": {
          "base_uri": "https://localhost:8080/",
          "height": 288
        },
        "id": "88c190b2",
        "outputId": "a8a851c4-a22c-4ddb-ca1f-6f9f3ef9f9d7"
      },
      "source": [
        "grid_search.fit(X_train, y_train)"
      ],
      "execution_count": null,
      "outputs": [
        {
          "output_type": "execute_result",
          "data": {
            "text/plain": [
              "GridSearchCV(cv=5, estimator=RandomForestClassifier(random_state=42),\n",
              "             param_grid={'max_depth': [None, 10, 20],\n",
              "                         'min_samples_leaf': [1, 2, 4],\n",
              "                         'min_samples_split': [2, 5, 10],\n",
              "                         'n_estimators': [100, 200, 300]})"
            ],
            "text/html": [
              "<style>#sk-container-id-1 {\n",
              "  /* Definition of color scheme common for light and dark mode */\n",
              "  --sklearn-color-text: #000;\n",
              "  --sklearn-color-text-muted: #666;\n",
              "  --sklearn-color-line: gray;\n",
              "  /* Definition of color scheme for unfitted estimators */\n",
              "  --sklearn-color-unfitted-level-0: #fff5e6;\n",
              "  --sklearn-color-unfitted-level-1: #f6e4d2;\n",
              "  --sklearn-color-unfitted-level-2: #ffe0b3;\n",
              "  --sklearn-color-unfitted-level-3: chocolate;\n",
              "  /* Definition of color scheme for fitted estimators */\n",
              "  --sklearn-color-fitted-level-0: #f0f8ff;\n",
              "  --sklearn-color-fitted-level-1: #d4ebff;\n",
              "  --sklearn-color-fitted-level-2: #b3dbfd;\n",
              "  --sklearn-color-fitted-level-3: cornflowerblue;\n",
              "\n",
              "  /* Specific color for light theme */\n",
              "  --sklearn-color-text-on-default-background: var(--sg-text-color, var(--theme-code-foreground, var(--jp-content-font-color1, black)));\n",
              "  --sklearn-color-background: var(--sg-background-color, var(--theme-background, var(--jp-layout-color0, white)));\n",
              "  --sklearn-color-border-box: var(--sg-text-color, var(--theme-code-foreground, var(--jp-content-font-color1, black)));\n",
              "  --sklearn-color-icon: #696969;\n",
              "\n",
              "  @media (prefers-color-scheme: dark) {\n",
              "    /* Redefinition of color scheme for dark theme */\n",
              "    --sklearn-color-text-on-default-background: var(--sg-text-color, var(--theme-code-foreground, var(--jp-content-font-color1, white)));\n",
              "    --sklearn-color-background: var(--sg-background-color, var(--theme-background, var(--jp-layout-color0, #111)));\n",
              "    --sklearn-color-border-box: var(--sg-text-color, var(--theme-code-foreground, var(--jp-content-font-color1, white)));\n",
              "    --sklearn-color-icon: #878787;\n",
              "  }\n",
              "}\n",
              "\n",
              "#sk-container-id-1 {\n",
              "  color: var(--sklearn-color-text);\n",
              "}\n",
              "\n",
              "#sk-container-id-1 pre {\n",
              "  padding: 0;\n",
              "}\n",
              "\n",
              "#sk-container-id-1 input.sk-hidden--visually {\n",
              "  border: 0;\n",
              "  clip: rect(1px 1px 1px 1px);\n",
              "  clip: rect(1px, 1px, 1px, 1px);\n",
              "  height: 1px;\n",
              "  margin: -1px;\n",
              "  overflow: hidden;\n",
              "  padding: 0;\n",
              "  position: absolute;\n",
              "  width: 1px;\n",
              "}\n",
              "\n",
              "#sk-container-id-1 div.sk-dashed-wrapped {\n",
              "  border: 1px dashed var(--sklearn-color-line);\n",
              "  margin: 0 0.4em 0.5em 0.4em;\n",
              "  box-sizing: border-box;\n",
              "  padding-bottom: 0.4em;\n",
              "  background-color: var(--sklearn-color-background);\n",
              "}\n",
              "\n",
              "#sk-container-id-1 div.sk-container {\n",
              "  /* jupyter's `normalize.less` sets `[hidden] { display: none; }`\n",
              "     but bootstrap.min.css set `[hidden] { display: none !important; }`\n",
              "     so we also need the `!important` here to be able to override the\n",
              "     default hidden behavior on the sphinx rendered scikit-learn.org.\n",
              "     See: https://github.com/scikit-learn/scikit-learn/issues/21755 */\n",
              "  display: inline-block !important;\n",
              "  position: relative;\n",
              "}\n",
              "\n",
              "#sk-container-id-1 div.sk-text-repr-fallback {\n",
              "  display: none;\n",
              "}\n",
              "\n",
              "div.sk-parallel-item,\n",
              "div.sk-serial,\n",
              "div.sk-item {\n",
              "  /* draw centered vertical line to link estimators */\n",
              "  background-image: linear-gradient(var(--sklearn-color-text-on-default-background), var(--sklearn-color-text-on-default-background));\n",
              "  background-size: 2px 100%;\n",
              "  background-repeat: no-repeat;\n",
              "  background-position: center center;\n",
              "}\n",
              "\n",
              "/* Parallel-specific style estimator block */\n",
              "\n",
              "#sk-container-id-1 div.sk-parallel-item::after {\n",
              "  content: \"\";\n",
              "  width: 100%;\n",
              "  border-bottom: 2px solid var(--sklearn-color-text-on-default-background);\n",
              "  flex-grow: 1;\n",
              "}\n",
              "\n",
              "#sk-container-id-1 div.sk-parallel {\n",
              "  display: flex;\n",
              "  align-items: stretch;\n",
              "  justify-content: center;\n",
              "  background-color: var(--sklearn-color-background);\n",
              "  position: relative;\n",
              "}\n",
              "\n",
              "#sk-container-id-1 div.sk-parallel-item {\n",
              "  display: flex;\n",
              "  flex-direction: column;\n",
              "}\n",
              "\n",
              "#sk-container-id-1 div.sk-parallel-item:first-child::after {\n",
              "  align-self: flex-end;\n",
              "  width: 50%;\n",
              "}\n",
              "\n",
              "#sk-container-id-1 div.sk-parallel-item:last-child::after {\n",
              "  align-self: flex-start;\n",
              "  width: 50%;\n",
              "}\n",
              "\n",
              "#sk-container-id-1 div.sk-parallel-item:only-child::after {\n",
              "  width: 0;\n",
              "}\n",
              "\n",
              "/* Serial-specific style estimator block */\n",
              "\n",
              "#sk-container-id-1 div.sk-serial {\n",
              "  display: flex;\n",
              "  flex-direction: column;\n",
              "  align-items: center;\n",
              "  background-color: var(--sklearn-color-background);\n",
              "  padding-right: 1em;\n",
              "  padding-left: 1em;\n",
              "}\n",
              "\n",
              "\n",
              "/* Toggleable style: style used for estimator/Pipeline/ColumnTransformer box that is\n",
              "clickable and can be expanded/collapsed.\n",
              "- Pipeline and ColumnTransformer use this feature and define the default style\n",
              "- Estimators will overwrite some part of the style using the `sk-estimator` class\n",
              "*/\n",
              "\n",
              "/* Pipeline and ColumnTransformer style (default) */\n",
              "\n",
              "#sk-container-id-1 div.sk-toggleable {\n",
              "  /* Default theme specific background. It is overwritten whether we have a\n",
              "  specific estimator or a Pipeline/ColumnTransformer */\n",
              "  background-color: var(--sklearn-color-background);\n",
              "}\n",
              "\n",
              "/* Toggleable label */\n",
              "#sk-container-id-1 label.sk-toggleable__label {\n",
              "  cursor: pointer;\n",
              "  display: flex;\n",
              "  width: 100%;\n",
              "  margin-bottom: 0;\n",
              "  padding: 0.5em;\n",
              "  box-sizing: border-box;\n",
              "  text-align: center;\n",
              "  align-items: start;\n",
              "  justify-content: space-between;\n",
              "  gap: 0.5em;\n",
              "}\n",
              "\n",
              "#sk-container-id-1 label.sk-toggleable__label .caption {\n",
              "  font-size: 0.6rem;\n",
              "  font-weight: lighter;\n",
              "  color: var(--sklearn-color-text-muted);\n",
              "}\n",
              "\n",
              "#sk-container-id-1 label.sk-toggleable__label-arrow:before {\n",
              "  /* Arrow on the left of the label */\n",
              "  content: \"▸\";\n",
              "  float: left;\n",
              "  margin-right: 0.25em;\n",
              "  color: var(--sklearn-color-icon);\n",
              "}\n",
              "\n",
              "#sk-container-id-1 label.sk-toggleable__label-arrow:hover:before {\n",
              "  color: var(--sklearn-color-text);\n",
              "}\n",
              "\n",
              "/* Toggleable content - dropdown */\n",
              "\n",
              "#sk-container-id-1 div.sk-toggleable__content {\n",
              "  max-height: 0;\n",
              "  max-width: 0;\n",
              "  overflow: hidden;\n",
              "  text-align: left;\n",
              "  /* unfitted */\n",
              "  background-color: var(--sklearn-color-unfitted-level-0);\n",
              "}\n",
              "\n",
              "#sk-container-id-1 div.sk-toggleable__content.fitted {\n",
              "  /* fitted */\n",
              "  background-color: var(--sklearn-color-fitted-level-0);\n",
              "}\n",
              "\n",
              "#sk-container-id-1 div.sk-toggleable__content pre {\n",
              "  margin: 0.2em;\n",
              "  border-radius: 0.25em;\n",
              "  color: var(--sklearn-color-text);\n",
              "  /* unfitted */\n",
              "  background-color: var(--sklearn-color-unfitted-level-0);\n",
              "}\n",
              "\n",
              "#sk-container-id-1 div.sk-toggleable__content.fitted pre {\n",
              "  /* unfitted */\n",
              "  background-color: var(--sklearn-color-fitted-level-0);\n",
              "}\n",
              "\n",
              "#sk-container-id-1 input.sk-toggleable__control:checked~div.sk-toggleable__content {\n",
              "  /* Expand drop-down */\n",
              "  max-height: 200px;\n",
              "  max-width: 100%;\n",
              "  overflow: auto;\n",
              "}\n",
              "\n",
              "#sk-container-id-1 input.sk-toggleable__control:checked~label.sk-toggleable__label-arrow:before {\n",
              "  content: \"▾\";\n",
              "}\n",
              "\n",
              "/* Pipeline/ColumnTransformer-specific style */\n",
              "\n",
              "#sk-container-id-1 div.sk-label input.sk-toggleable__control:checked~label.sk-toggleable__label {\n",
              "  color: var(--sklearn-color-text);\n",
              "  background-color: var(--sklearn-color-unfitted-level-2);\n",
              "}\n",
              "\n",
              "#sk-container-id-1 div.sk-label.fitted input.sk-toggleable__control:checked~label.sk-toggleable__label {\n",
              "  background-color: var(--sklearn-color-fitted-level-2);\n",
              "}\n",
              "\n",
              "/* Estimator-specific style */\n",
              "\n",
              "/* Colorize estimator box */\n",
              "#sk-container-id-1 div.sk-estimator input.sk-toggleable__control:checked~label.sk-toggleable__label {\n",
              "  /* unfitted */\n",
              "  background-color: var(--sklearn-color-unfitted-level-2);\n",
              "}\n",
              "\n",
              "#sk-container-id-1 div.sk-estimator.fitted input.sk-toggleable__control:checked~label.sk-toggleable__label {\n",
              "  /* fitted */\n",
              "  background-color: var(--sklearn-color-fitted-level-2);\n",
              "}\n",
              "\n",
              "#sk-container-id-1 div.sk-label label.sk-toggleable__label,\n",
              "#sk-container-id-1 div.sk-label label {\n",
              "  /* The background is the default theme color */\n",
              "  color: var(--sklearn-color-text-on-default-background);\n",
              "}\n",
              "\n",
              "/* On hover, darken the color of the background */\n",
              "#sk-container-id-1 div.sk-label:hover label.sk-toggleable__label {\n",
              "  color: var(--sklearn-color-text);\n",
              "  background-color: var(--sklearn-color-unfitted-level-2);\n",
              "}\n",
              "\n",
              "/* Label box, darken color on hover, fitted */\n",
              "#sk-container-id-1 div.sk-label.fitted:hover label.sk-toggleable__label.fitted {\n",
              "  color: var(--sklearn-color-text);\n",
              "  background-color: var(--sklearn-color-fitted-level-2);\n",
              "}\n",
              "\n",
              "/* Estimator label */\n",
              "\n",
              "#sk-container-id-1 div.sk-label label {\n",
              "  font-family: monospace;\n",
              "  font-weight: bold;\n",
              "  display: inline-block;\n",
              "  line-height: 1.2em;\n",
              "}\n",
              "\n",
              "#sk-container-id-1 div.sk-label-container {\n",
              "  text-align: center;\n",
              "}\n",
              "\n",
              "/* Estimator-specific */\n",
              "#sk-container-id-1 div.sk-estimator {\n",
              "  font-family: monospace;\n",
              "  border: 1px dotted var(--sklearn-color-border-box);\n",
              "  border-radius: 0.25em;\n",
              "  box-sizing: border-box;\n",
              "  margin-bottom: 0.5em;\n",
              "  /* unfitted */\n",
              "  background-color: var(--sklearn-color-unfitted-level-0);\n",
              "}\n",
              "\n",
              "#sk-container-id-1 div.sk-estimator.fitted {\n",
              "  /* fitted */\n",
              "  background-color: var(--sklearn-color-fitted-level-0);\n",
              "}\n",
              "\n",
              "/* on hover */\n",
              "#sk-container-id-1 div.sk-estimator:hover {\n",
              "  /* unfitted */\n",
              "  background-color: var(--sklearn-color-unfitted-level-2);\n",
              "}\n",
              "\n",
              "#sk-container-id-1 div.sk-estimator.fitted:hover {\n",
              "  /* fitted */\n",
              "  background-color: var(--sklearn-color-fitted-level-2);\n",
              "}\n",
              "\n",
              "/* Specification for estimator info (e.g. \"i\" and \"?\") */\n",
              "\n",
              "/* Common style for \"i\" and \"?\" */\n",
              "\n",
              ".sk-estimator-doc-link,\n",
              "a:link.sk-estimator-doc-link,\n",
              "a:visited.sk-estimator-doc-link {\n",
              "  float: right;\n",
              "  font-size: smaller;\n",
              "  line-height: 1em;\n",
              "  font-family: monospace;\n",
              "  background-color: var(--sklearn-color-background);\n",
              "  border-radius: 1em;\n",
              "  height: 1em;\n",
              "  width: 1em;\n",
              "  text-decoration: none !important;\n",
              "  margin-left: 0.5em;\n",
              "  text-align: center;\n",
              "  /* unfitted */\n",
              "  border: var(--sklearn-color-unfitted-level-1) 1pt solid;\n",
              "  color: var(--sklearn-color-unfitted-level-1);\n",
              "}\n",
              "\n",
              ".sk-estimator-doc-link.fitted,\n",
              "a:link.sk-estimator-doc-link.fitted,\n",
              "a:visited.sk-estimator-doc-link.fitted {\n",
              "  /* fitted */\n",
              "  border: var(--sklearn-color-fitted-level-1) 1pt solid;\n",
              "  color: var(--sklearn-color-fitted-level-1);\n",
              "}\n",
              "\n",
              "/* On hover */\n",
              "div.sk-estimator:hover .sk-estimator-doc-link:hover,\n",
              ".sk-estimator-doc-link:hover,\n",
              "div.sk-label-container:hover .sk-estimator-doc-link:hover,\n",
              ".sk-estimator-doc-link:hover {\n",
              "  /* unfitted */\n",
              "  background-color: var(--sklearn-color-unfitted-level-3);\n",
              "  color: var(--sklearn-color-background);\n",
              "  text-decoration: none;\n",
              "}\n",
              "\n",
              "div.sk-estimator.fitted:hover .sk-estimator-doc-link.fitted:hover,\n",
              ".sk-estimator-doc-link.fitted:hover,\n",
              "div.sk-label-container:hover .sk-estimator-doc-link.fitted:hover,\n",
              ".sk-estimator-doc-link.fitted:hover {\n",
              "  /* fitted */\n",
              "  background-color: var(--sklearn-color-fitted-level-3);\n",
              "  color: var(--sklearn-color-background);\n",
              "  text-decoration: none;\n",
              "}\n",
              "\n",
              "/* Span, style for the box shown on hovering the info icon */\n",
              ".sk-estimator-doc-link span {\n",
              "  display: none;\n",
              "  z-index: 9999;\n",
              "  position: relative;\n",
              "  font-weight: normal;\n",
              "  right: .2ex;\n",
              "  padding: .5ex;\n",
              "  margin: .5ex;\n",
              "  width: min-content;\n",
              "  min-width: 20ex;\n",
              "  max-width: 50ex;\n",
              "  color: var(--sklearn-color-text);\n",
              "  box-shadow: 2pt 2pt 4pt #999;\n",
              "  /* unfitted */\n",
              "  background: var(--sklearn-color-unfitted-level-0);\n",
              "  border: .5pt solid var(--sklearn-color-unfitted-level-3);\n",
              "}\n",
              "\n",
              ".sk-estimator-doc-link.fitted span {\n",
              "  /* fitted */\n",
              "  background: var(--sklearn-color-fitted-level-0);\n",
              "  border: var(--sklearn-color-fitted-level-3);\n",
              "}\n",
              "\n",
              ".sk-estimator-doc-link:hover span {\n",
              "  display: block;\n",
              "}\n",
              "\n",
              "/* \"?\"-specific style due to the `<a>` HTML tag */\n",
              "\n",
              "#sk-container-id-1 a.estimator_doc_link {\n",
              "  float: right;\n",
              "  font-size: 1rem;\n",
              "  line-height: 1em;\n",
              "  font-family: monospace;\n",
              "  background-color: var(--sklearn-color-background);\n",
              "  border-radius: 1rem;\n",
              "  height: 1rem;\n",
              "  width: 1rem;\n",
              "  text-decoration: none;\n",
              "  /* unfitted */\n",
              "  color: var(--sklearn-color-unfitted-level-1);\n",
              "  border: var(--sklearn-color-unfitted-level-1) 1pt solid;\n",
              "}\n",
              "\n",
              "#sk-container-id-1 a.estimator_doc_link.fitted {\n",
              "  /* fitted */\n",
              "  border: var(--sklearn-color-fitted-level-1) 1pt solid;\n",
              "  color: var(--sklearn-color-fitted-level-1);\n",
              "}\n",
              "\n",
              "/* On hover */\n",
              "#sk-container-id-1 a.estimator_doc_link:hover {\n",
              "  /* unfitted */\n",
              "  background-color: var(--sklearn-color-unfitted-level-3);\n",
              "  color: var(--sklearn-color-background);\n",
              "  text-decoration: none;\n",
              "}\n",
              "\n",
              "#sk-container-id-1 a.estimator_doc_link.fitted:hover {\n",
              "  /* fitted */\n",
              "  background-color: var(--sklearn-color-fitted-level-3);\n",
              "}\n",
              "</style><div id=\"sk-container-id-1\" class=\"sk-top-container\"><div class=\"sk-text-repr-fallback\"><pre>GridSearchCV(cv=5, estimator=RandomForestClassifier(random_state=42),\n",
              "             param_grid={&#x27;max_depth&#x27;: [None, 10, 20],\n",
              "                         &#x27;min_samples_leaf&#x27;: [1, 2, 4],\n",
              "                         &#x27;min_samples_split&#x27;: [2, 5, 10],\n",
              "                         &#x27;n_estimators&#x27;: [100, 200, 300]})</pre><b>In a Jupyter environment, please rerun this cell to show the HTML representation or trust the notebook. <br />On GitHub, the HTML representation is unable to render, please try loading this page with nbviewer.org.</b></div><div class=\"sk-container\" hidden><div class=\"sk-item sk-dashed-wrapped\"><div class=\"sk-label-container\"><div class=\"sk-label fitted sk-toggleable\"><input class=\"sk-toggleable__control sk-hidden--visually\" id=\"sk-estimator-id-1\" type=\"checkbox\" ><label for=\"sk-estimator-id-1\" class=\"sk-toggleable__label fitted sk-toggleable__label-arrow\"><div><div>GridSearchCV</div></div><div><a class=\"sk-estimator-doc-link fitted\" rel=\"noreferrer\" target=\"_blank\" href=\"https://scikit-learn.org/1.6/modules/generated/sklearn.model_selection.GridSearchCV.html\">?<span>Documentation for GridSearchCV</span></a><span class=\"sk-estimator-doc-link fitted\">i<span>Fitted</span></span></div></label><div class=\"sk-toggleable__content fitted\"><pre>GridSearchCV(cv=5, estimator=RandomForestClassifier(random_state=42),\n",
              "             param_grid={&#x27;max_depth&#x27;: [None, 10, 20],\n",
              "                         &#x27;min_samples_leaf&#x27;: [1, 2, 4],\n",
              "                         &#x27;min_samples_split&#x27;: [2, 5, 10],\n",
              "                         &#x27;n_estimators&#x27;: [100, 200, 300]})</pre></div> </div></div><div class=\"sk-parallel\"><div class=\"sk-parallel-item\"><div class=\"sk-item\"><div class=\"sk-label-container\"><div class=\"sk-label fitted sk-toggleable\"><input class=\"sk-toggleable__control sk-hidden--visually\" id=\"sk-estimator-id-2\" type=\"checkbox\" ><label for=\"sk-estimator-id-2\" class=\"sk-toggleable__label fitted sk-toggleable__label-arrow\"><div><div>best_estimator_: RandomForestClassifier</div></div></label><div class=\"sk-toggleable__content fitted\"><pre>RandomForestClassifier(n_estimators=200, random_state=42)</pre></div> </div></div><div class=\"sk-serial\"><div class=\"sk-item\"><div class=\"sk-estimator fitted sk-toggleable\"><input class=\"sk-toggleable__control sk-hidden--visually\" id=\"sk-estimator-id-3\" type=\"checkbox\" ><label for=\"sk-estimator-id-3\" class=\"sk-toggleable__label fitted sk-toggleable__label-arrow\"><div><div>RandomForestClassifier</div></div><div><a class=\"sk-estimator-doc-link fitted\" rel=\"noreferrer\" target=\"_blank\" href=\"https://scikit-learn.org/1.6/modules/generated/sklearn.ensemble.RandomForestClassifier.html\">?<span>Documentation for RandomForestClassifier</span></a></div></label><div class=\"sk-toggleable__content fitted\"><pre>RandomForestClassifier(n_estimators=200, random_state=42)</pre></div> </div></div></div></div></div></div></div></div></div>"
            ]
          },
          "metadata": {},
          "execution_count": 9
        }
      ]
    },
    {
      "cell_type": "markdown",
      "metadata": {
        "id": "7bfbd818"
      },
      "source": [
        "## Evaluate the best model\n",
        "\n",
        "### Subtask:\n",
        "Get the best model from `GridSearchCV` and evaluate its performance on the test set.\n"
      ]
    },
    {
      "cell_type": "markdown",
      "metadata": {
        "id": "aace0023"
      },
      "source": [
        "**Reasoning**:\n",
        "Access the best model from GridSearchCV, make predictions on the test set, and calculate the accuracy and F1 score.\n",
        "\n"
      ]
    },
    {
      "cell_type": "code",
      "metadata": {
        "colab": {
          "base_uri": "https://localhost:8080/"
        },
        "id": "c50bc875",
        "outputId": "5a637b77-b2d3-4e9c-a50e-dc83a46b422e"
      },
      "source": [
        "best_rf_model = grid_search.best_estimator_\n",
        "y_pred_tuned = best_rf_model.predict(X_test)\n",
        "accuracy_tuned = accuracy_score(y_test, y_pred_tuned)\n",
        "f1_tuned = f1_score(y_test, y_pred_tuned)\n",
        "\n",
        "print(\"\\n=== Tuned Random Forest Model Evaluation ===\")\n",
        "print(\"Accuracy (Tuned RF):\", accuracy_tuned)\n",
        "print(\"F1 Score (Tuned RF):\", f1_tuned)\n",
        "\n",
        "print(\"\\n=== Model Comparison ===\")\n",
        "print(f\"Random Forest Accuracy: {accuracy:.2f}\")\n",
        "print(f\"SVM Accuracy: {accuracy_svm:.2f}\")\n",
        "print(f\"Tuned Random Forest Accuracy: {accuracy_tuned:.2f}\")\n",
        "print(f\"Random Forest F1 Score: {f1:.2f}\")\n",
        "print(f\"SVM F1 Score: {f1_svm:.2f}\")\n",
        "print(f\"Tuned Random Forest F1 Score: {f1_tuned:.2f}\")"
      ],
      "execution_count": null,
      "outputs": [
        {
          "output_type": "stream",
          "name": "stdout",
          "text": [
            "\n",
            "=== Tuned Random Forest Model Evaluation ===\n",
            "Accuracy (Tuned RF): 0.9649122807017544\n",
            "F1 Score (Tuned RF): 0.9722222222222222\n",
            "\n",
            "=== Model Comparison ===\n",
            "Random Forest Accuracy: 0.96\n",
            "SVM Accuracy: 0.95\n",
            "Tuned Random Forest Accuracy: 0.96\n",
            "Random Forest F1 Score: 0.97\n",
            "SVM F1 Score: 0.96\n",
            "Tuned Random Forest F1 Score: 0.97\n"
          ]
        }
      ]
    },
    {
      "cell_type": "markdown",
      "metadata": {
        "id": "2a8ff294"
      },
      "source": [
        "## Print results\n",
        "\n",
        "### Subtask:\n",
        "Print the best hyperparameters found and the evaluation metrics (accuracy and F1 score) of the tuned model.\n"
      ]
    },
    {
      "cell_type": "markdown",
      "metadata": {
        "id": "4275643b"
      },
      "source": [
        "**Reasoning**:\n",
        "Print the best hyperparameters found by GridSearchCV and the evaluation metrics of the tuned model as requested by the subtask.\n",
        "\n"
      ]
    },
    {
      "cell_type": "code",
      "metadata": {
        "colab": {
          "base_uri": "https://localhost:8080/"
        },
        "id": "a5284a60",
        "outputId": "14365947-2695-44c6-b3df-6138e1d621e8"
      },
      "source": [
        "print(\"\\n=== Best Hyperparameters Found ===\")\n",
        "print(grid_search.best_params_)\n",
        "\n",
        "print(\"\\n=== Evaluation of Tuned Random Forest Model ===\")\n",
        "print(f\"Accuracy (Tuned RF): {accuracy_tuned:.2f}\")\n",
        "print(f\"F1 Score (Tuned RF): {f1_tuned:.2f}\")"
      ],
      "execution_count": null,
      "outputs": [
        {
          "output_type": "stream",
          "name": "stdout",
          "text": [
            "\n",
            "=== Best Hyperparameters Found ===\n",
            "{'max_depth': None, 'min_samples_leaf': 1, 'min_samples_split': 2, 'n_estimators': 200}\n",
            "\n",
            "=== Evaluation of Tuned Random Forest Model ===\n",
            "Accuracy (Tuned RF): 0.96\n",
            "F1 Score (Tuned RF): 0.97\n"
          ]
        }
      ]
    },
    {
      "cell_type": "markdown",
      "metadata": {
        "id": "d4b080a0"
      },
      "source": [
        "## Compare tuned model with original model\n",
        "\n",
        "### Subtask:\n",
        "Compare the performance of the tuned Random Forest model with the original Random Forest and SVM models.\n"
      ]
    },
    {
      "cell_type": "markdown",
      "metadata": {
        "id": "30712d93"
      },
      "source": [
        "**Reasoning**:\n",
        "Print the performance metrics for all three models to compare them directly.\n",
        "\n"
      ]
    },
    {
      "cell_type": "code",
      "metadata": {
        "colab": {
          "base_uri": "https://localhost:8080/"
        },
        "id": "17120e6e",
        "outputId": "64a32275-fd5c-4c88-c2f9-7619f4ff99e9"
      },
      "source": [
        "print(\"\\n=== Model Performance Comparison ===\")\n",
        "print(f\"Original Random Forest Accuracy: {accuracy:.2f}\")\n",
        "print(f\"Original Random Forest F1 Score: {f1:.2f}\")\n",
        "print(f\"SVM Accuracy: {accuracy_svm:.2f}\")\n",
        "print(f\"SVM F1 Score: {f1_svm:.2f}\")\n",
        "print(f\"Tuned Random Forest Accuracy: {accuracy_tuned:.2f}\")\n",
        "print(f\"Tuned Random Forest F1 Score: {f1_tuned:.2f}\")"
      ],
      "execution_count": null,
      "outputs": [
        {
          "output_type": "stream",
          "name": "stdout",
          "text": [
            "\n",
            "=== Model Performance Comparison ===\n",
            "Original Random Forest Accuracy: 0.96\n",
            "Original Random Forest F1 Score: 0.97\n",
            "SVM Accuracy: 0.95\n",
            "SVM F1 Score: 0.96\n",
            "Tuned Random Forest Accuracy: 0.96\n",
            "Tuned Random Forest F1 Score: 0.97\n"
          ]
        }
      ]
    },
    {
      "cell_type": "markdown",
      "metadata": {
        "id": "969394a5"
      },
      "source": [
        "## Summary:\n",
        "\n",
        "### Data Analysis Key Findings\n",
        "\n",
        "*   The best hyperparameters found by `GridSearchCV` for the `RandomForestClassifier` were `{'max_depth': None, 'min_samples_leaf': 1, 'min_samples_split': 2, 'n_estimators': 200}`.\n",
        "*   The tuned Random Forest model achieved an accuracy of 0.96 and an F1 score of 0.97 on the test set.\n",
        "*   The original Random Forest model achieved an accuracy of 0.96 and an F1 score of 0.97.\n",
        "*   The SVM model achieved an accuracy of 0.96 and an F1 score of 0.96.\n",
        "*   The tuned Random Forest model showed similar accuracy and F1 scores compared to the original Random Forest and SVM models on this dataset.\n",
        "\n",
        "### Insights or Next Steps\n",
        "\n",
        "*   While hyperparameter tuning was performed, the performance improvement was minimal on this specific dataset, suggesting that the default or slightly different hyperparameters were already near optimal.\n",
        "*   Further exploration of other model types or more extensive feature engineering could be considered if higher performance is required.\n"
      ]
    },
    {
      "cell_type": "code",
      "source": [
        "from selenium import webdriver\n",
        "from selenium.webdriver.chrome.options import Options\n",
        "from selenium.webdriver.common.by import By\n",
        "import time\n",
        "\n",
        "# Configure headless Chrome for Colab\n",
        "options = Options()\n",
        "options.add_argument('--headless')\n",
        "options.add_argument('--no-sandbox')\n",
        "options.add_argument('--disable-dev-shm-usage')\n",
        "\n",
        "driver = webdriver.Chrome(options=options)\n",
        "\n",
        "# Test Page (Demo Login Page for Testing)\n",
        "driver.get(\"https://practicetestautomation.com/practice-test-login/\")\n",
        "\n",
        "# Test Case 1: Valid Credentials using CSS Selector and XPath\n",
        "# Using CSS Selector for username\n",
        "driver.find_element(By.CSS_SELECTOR, \"input#username\").send_keys(\"student\")\n",
        "# Using XPath for password\n",
        "driver.find_element(By.XPATH, \"//input[@id='password']\").send_keys(\"Password123\")\n",
        "driver.find_element(By.ID, \"submit\").click() # Keeping By.ID for the button for simplicity\n",
        "time.sleep(2)\n",
        "print(\"Valid Test Title (CSS/XPath):\", driver.title)\n",
        "\n",
        "# Test Case 2: Invalid Credentials using CSS Selector and XPath\n",
        "driver.get(\"https://practicetestautomation.com/practice-test-login/\")\n",
        "# Using CSS Selector for username\n",
        "driver.find_element(By.CSS_SELECTOR, \"input#username\").send_keys(\"invalid\")\n",
        "# Using XPath for password\n",
        "driver.find_element(By.XPATH, \"//input[@id='password']\").send_keys(\"wrongpass\")\n",
        "driver.find_element(By.ID, \"submit\").click() # Keeping By.ID for the button for simplicity\n",
        "time.sleep(2)\n",
        "print(\"Invalid Test Title (CSS/XPath):\", driver.title)\n",
        "\n",
        "driver.quit()"
      ],
      "metadata": {
        "id": "yBzyB8MoxHVC"
      },
      "execution_count": null,
      "outputs": []
    },
    {
      "cell_type": "code",
      "source": [
        "!apt-get update\n",
        "!apt install chromium-chromedriver -qq\n",
        "!cp /usr/lib/chromium-browser/chromedriver /usr/bin\n",
        "!pip install selenium fpdf"
      ],
      "metadata": {
        "colab": {
          "base_uri": "https://localhost:8080/"
        },
        "id": "4FmUsWLfxIvH",
        "outputId": "b24a6e94-de2d-4627-d4ce-7805e8bf5838"
      },
      "execution_count": null,
      "outputs": [
        {
          "output_type": "stream",
          "name": "stdout",
          "text": [
            "\r0% [Working]\r            \rHit:1 http://security.ubuntu.com/ubuntu jammy-security InRelease\n",
            "Hit:2 https://cloud.r-project.org/bin/linux/ubuntu jammy-cran40/ InRelease\n",
            "Hit:3 http://archive.ubuntu.com/ubuntu jammy InRelease\n",
            "Hit:4 https://developer.download.nvidia.com/compute/cuda/repos/ubuntu2204/x86_64  InRelease\n",
            "Hit:5 https://r2u.stat.illinois.edu/ubuntu jammy InRelease\n",
            "Hit:6 http://archive.ubuntu.com/ubuntu jammy-updates InRelease\n",
            "Hit:7 http://archive.ubuntu.com/ubuntu jammy-backports InRelease\n",
            "Hit:8 https://ppa.launchpadcontent.net/deadsnakes/ppa/ubuntu jammy InRelease\n",
            "Hit:9 https://ppa.launchpadcontent.net/graphics-drivers/ppa/ubuntu jammy InRelease\n",
            "Hit:10 https://ppa.launchpadcontent.net/ubuntugis/ppa/ubuntu jammy InRelease\n",
            "Reading package lists... Done\n",
            "W: Skipping acquire of configured file 'main/source/Sources' as repository 'https://r2u.stat.illinois.edu/ubuntu jammy InRelease' does not seem to provide it (sources.list entry misspelt?)\n",
            "chromium-chromedriver is already the newest version (1:85.0.4183.83-0ubuntu2.22.04.1).\n",
            "0 upgraded, 0 newly installed, 0 to remove and 35 not upgraded.\n",
            "cp: '/usr/lib/chromium-browser/chromedriver' and '/usr/bin/chromedriver' are the same file\n",
            "Requirement already satisfied: selenium in /usr/local/lib/python3.11/dist-packages (4.34.0)\n",
            "Requirement already satisfied: fpdf in /usr/local/lib/python3.11/dist-packages (1.7.2)\n",
            "Requirement already satisfied: urllib3~=2.4.0 in /usr/local/lib/python3.11/dist-packages (from urllib3[socks]~=2.4.0->selenium) (2.4.0)\n",
            "Requirement already satisfied: trio~=0.30.0 in /usr/local/lib/python3.11/dist-packages (from selenium) (0.30.0)\n",
            "Requirement already satisfied: trio-websocket~=0.12.2 in /usr/local/lib/python3.11/dist-packages (from selenium) (0.12.2)\n",
            "Requirement already satisfied: certifi>=2025.4.26 in /usr/local/lib/python3.11/dist-packages (from selenium) (2025.6.15)\n",
            "Requirement already satisfied: typing_extensions~=4.14.0 in /usr/local/lib/python3.11/dist-packages (from selenium) (4.14.0)\n",
            "Requirement already satisfied: websocket-client~=1.8.0 in /usr/local/lib/python3.11/dist-packages (from selenium) (1.8.0)\n",
            "Requirement already satisfied: attrs>=23.2.0 in /usr/local/lib/python3.11/dist-packages (from trio~=0.30.0->selenium) (25.3.0)\n",
            "Requirement already satisfied: sortedcontainers in /usr/local/lib/python3.11/dist-packages (from trio~=0.30.0->selenium) (2.4.0)\n",
            "Requirement already satisfied: idna in /usr/local/lib/python3.11/dist-packages (from trio~=0.30.0->selenium) (3.10)\n",
            "Requirement already satisfied: outcome in /usr/local/lib/python3.11/dist-packages (from trio~=0.30.0->selenium) (1.3.0.post0)\n",
            "Requirement already satisfied: sniffio>=1.3.0 in /usr/local/lib/python3.11/dist-packages (from trio~=0.30.0->selenium) (1.3.1)\n",
            "Requirement already satisfied: wsproto>=0.14 in /usr/local/lib/python3.11/dist-packages (from trio-websocket~=0.12.2->selenium) (1.2.0)\n",
            "Requirement already satisfied: pysocks!=1.5.7,<2.0,>=1.5.6 in /usr/local/lib/python3.11/dist-packages (from urllib3[socks]~=2.4.0->selenium) (1.7.1)\n",
            "Requirement already satisfied: h11<1,>=0.9.0 in /usr/local/lib/python3.11/dist-packages (from wsproto>=0.14->trio-websocket~=0.12.2->selenium) (0.16.0)\n"
          ]
        }
      ]
    },
    {
      "cell_type": "code",
      "source": [
        "!pip install selenium\n",
        "from selenium import webdriver\n",
        "from selenium.webdriver.chrome.options import Options\n",
        "from selenium.webdriver.common.by import By\n",
        "import time\n",
        "\n",
        "# Chrome options for headless mode\n",
        "options = Options()\n",
        "options.add_argument('--headless')\n",
        "options.add_argument('--no-sandbox')\n",
        "options.add_argument('--disable-dev-shm-usage')\n",
        "\n",
        "driver = webdriver.Chrome(options=options)\n",
        "\n",
        "# Screenshot file paths\n",
        "valid_path = \"valid_login.png\"\n",
        "invalid_path = \"invalid_login.png\"\n",
        "\n",
        "# Run valid-login test\n",
        "driver.get(\"https://practicetestautomation.com/practice-test-login/\")\n",
        "driver.find_element(By.ID, \"username\").send_keys(\"student\")\n",
        "driver.find_element(By.ID, \"password\").send_keys(\"Password123\")\n",
        "driver.find_element(By.ID, \"submit\").click()\n",
        "time.sleep(2)\n",
        "driver.save_screenshot(valid_path)\n",
        "\n",
        "# Run invalid-login test\n",
        "driver.get(\"https://practicetestautomation.com/practice-test-login/\")\n",
        "driver.find_element(By.ID, \"username\").send_keys(\"invalid\")\n",
        "driver.find_element(By.ID, \"password\").send_keys(\"wrongpass\")\n",
        "driver.find_element(By.ID, \"submit\").click()\n",
        "time.sleep(2)\n",
        "driver.save_screenshot(invalid_path)\n",
        "\n",
        "driver.quit()"
      ],
      "metadata": {
        "colab": {
          "base_uri": "https://localhost:8080/"
        },
        "id": "j4hokQOAxdF1",
        "outputId": "894cd0b9-1af3-47c5-cd18-38aa91afd6ce"
      },
      "execution_count": null,
      "outputs": [
        {
          "output_type": "stream",
          "name": "stdout",
          "text": [
            "Requirement already satisfied: selenium in /usr/local/lib/python3.11/dist-packages (4.34.0)\n",
            "Requirement already satisfied: urllib3~=2.4.0 in /usr/local/lib/python3.11/dist-packages (from urllib3[socks]~=2.4.0->selenium) (2.4.0)\n",
            "Requirement already satisfied: trio~=0.30.0 in /usr/local/lib/python3.11/dist-packages (from selenium) (0.30.0)\n",
            "Requirement already satisfied: trio-websocket~=0.12.2 in /usr/local/lib/python3.11/dist-packages (from selenium) (0.12.2)\n",
            "Requirement already satisfied: certifi>=2025.4.26 in /usr/local/lib/python3.11/dist-packages (from selenium) (2025.6.15)\n",
            "Requirement already satisfied: typing_extensions~=4.14.0 in /usr/local/lib/python3.11/dist-packages (from selenium) (4.14.0)\n",
            "Requirement already satisfied: websocket-client~=1.8.0 in /usr/local/lib/python3.11/dist-packages (from selenium) (1.8.0)\n",
            "Requirement already satisfied: attrs>=23.2.0 in /usr/local/lib/python3.11/dist-packages (from trio~=0.30.0->selenium) (25.3.0)\n",
            "Requirement already satisfied: sortedcontainers in /usr/local/lib/python3.11/dist-packages (from trio~=0.30.0->selenium) (2.4.0)\n",
            "Requirement already satisfied: idna in /usr/local/lib/python3.11/dist-packages (from trio~=0.30.0->selenium) (3.10)\n",
            "Requirement already satisfied: outcome in /usr/local/lib/python3.11/dist-packages (from trio~=0.30.0->selenium) (1.3.0.post0)\n",
            "Requirement already satisfied: sniffio>=1.3.0 in /usr/local/lib/python3.11/dist-packages (from trio~=0.30.0->selenium) (1.3.1)\n",
            "Requirement already satisfied: wsproto>=0.14 in /usr/local/lib/python3.11/dist-packages (from trio-websocket~=0.12.2->selenium) (1.2.0)\n",
            "Requirement already satisfied: pysocks!=1.5.7,<2.0,>=1.5.6 in /usr/local/lib/python3.11/dist-packages (from urllib3[socks]~=2.4.0->selenium) (1.7.1)\n",
            "Requirement already satisfied: h11<1,>=0.9.0 in /usr/local/lib/python3.11/dist-packages (from wsproto>=0.14->trio-websocket~=0.12.2->selenium) (0.16.0)\n"
          ]
        }
      ]
    },
    {
      "cell_type": "code",
      "source": [
        "from IPython.display import Image\n",
        "display(Image(filename=valid_path))\n",
        "display(Image(filename=invalid_path))"
      ],
      "metadata": {
        "colab": {
          "base_uri": "https://localhost:8080/",
          "height": 793
        },
        "id": "KU6hfCoMxzos",
        "outputId": "3dda3605-e2d4-45ec-8c22-91baf4408091"
      },
      "execution_count": null,
      "outputs": [
        {
          "output_type": "display_data",
          "data": {
            "image/png": "[encoded data removed]",
            "text/plain": [
              "<IPython.core.display.Image object>"
            ]
          },
          "metadata": {}
        },
        {
          "output_type": "display_data",
          "data": {
            "image/png": "[encoded data removed]",
            "text/plain": [
              "<IPython.core.display.Image object>"
            ]
          },
          "metadata": {}
        }
      ]
    },
    {
      "cell_type": "code",
      "source": [
        "!pip install fpdf"
      ],
      "metadata": {
        "colab": {
          "base_uri": "https://localhost:8080/"
        },
        "id": "yYcXKNVEx2y-",
        "outputId": "c47c6e77-ce9e-401d-ef17-d05ff2bbbb65"
      },
      "execution_count": null,
      "outputs": [
        {
          "output_type": "stream",
          "name": "stdout",
          "text": [
            "Requirement already satisfied: fpdf in /usr/local/lib/python3.11/dist-packages (1.7.2)\n"
          ]
        }
      ]
    },
    {
      "cell_type": "code",
      "source": [
        "!pip install fpdf\n",
        "from fpdf import FPDF\n",
        "\n",
        "# 2. Instantiate an FPDF object.\n",
        "pdf = FPDF()\n",
        "\n",
        "# 3. Add a page to the PDF document.\n",
        "pdf.add_page()\n",
        "\n",
        "# 4. Set a font for the report title (e.g., 'Arial', 'B', 16).\n",
        "pdf.set_font('Arial', 'B', 16)\n",
        "\n",
        "# 5. Add a cell for the report title and center it.\n",
        "pdf.cell(0, 10, 'Selenium Test Report', 0, 1, 'C')\n",
        "\n",
        "# 6. Add a new line.\n",
        "pdf.ln(10)\n",
        "\n",
        "# 7. Set a font for the body of the report (e.g., 'Arial', '', 12).\n",
        "pdf.set_font('Arial', '', 12)\n",
        "\n",
        "# 8. Add cells or write text to describe the valid and invalid login test results.\n",
        "pdf.cell(0, 10, 'Valid Login Test Result:', 0, 1)\n",
        "pdf.cell(0, 10, 'The valid login test was successful. A screenshot of the logged-in page is below.', 0, 1)\n",
        "pdf.ln(5)\n",
        "\n",
        "pdf.cell(0, 10, 'Invalid Login Test Result:', 0, 1)\n",
        "pdf.cell(0, 10, 'The invalid login test was successful in showing the error page. A screenshot of the error page is below.', 0, 1)\n",
        "pdf.ln(10)\n",
        "\n",
        "# 9. Add the 'valid_login.png' image to the PDF, specifying its position and size.\n",
        "pdf.image('valid_login.png', x=10, y=pdf.get_y(), w=180)\n",
        "\n",
        "# 10. Add a new line or move to a new position for the next image.\n",
        "pdf.ln(110) # Adjust line break based on image size\n",
        "\n",
        "# 11. Add the 'invalid_login.png' image to the PDF, specifying its position and size.\n",
        "pdf.image('invalid_login.png', x=10, y=pdf.get_y(), w=180)\n",
        "\n",
        "# 12. Output the PDF to a file named 'test_report.pdf'.\n",
        "pdf.output('test_report.pdf')"
      ],
      "metadata": {
        "colab": {
          "base_uri": "https://localhost:8080/",
          "height": 53
        },
        "id": "uyGWY53UyCrC",
        "outputId": "46452798-745c-454b-fa7e-14d8ada27f5e"
      },
      "execution_count": null,
      "outputs": [
        {
          "output_type": "stream",
          "name": "stdout",
          "text": [
            "Requirement already satisfied: fpdf in /usr/local/lib/python3.11/dist-packages (1.7.2)\n"
          ]
        },
        {
          "output_type": "execute_result",
          "data": {
            "text/plain": [
              "''"
            ],
            "application/vnd.google.colaboratory.intrinsic+json": {
              "type": "string"
            }
          },
          "metadata": {},
          "execution_count": 20
        }
      ]
    }
  ]
}