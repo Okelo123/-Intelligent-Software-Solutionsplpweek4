{
  "nbformat": 4,
  "nbformat_minor": 0,
  "metadata": {
    "colab": {
      "provenance": [],
      "include_colab_link": true
    },
    "kernelspec": {
      "name": "python3",
      "display_name": "Python 3"
    },
    "language_info": {
      "name": "python"
    }
  },
  "cells": [
    {
      "cell_type": "markdown",
      "metadata": {
        "id": "view-in-github",
        "colab_type": "text"
      },
      "source": [
        "<a href=\"https://colab.research.google.com/github/Okelo123/-Intelligent-Software-Solutionsplpweek4/blob/main/plpAss4Building_Intelligent_Solutions.ipynb\" target=\"_parent\"><img src=\"https://colab.research.google.com/assets/colab-badge.svg\" alt=\"Open In Colab\"/></a>"
      ]
    },
    {
      "cell_type": "code",
      "execution_count": null,
      "metadata": {
        "colab": {
          "base_uri": "https://localhost:8080/"
        },
        "id": "6Ae9gK0Hffrp",
        "outputId": "2106b5cf-0bb9-40f4-9223-b4fc38aa0c31"
      },
      "outputs": [
        {
          "output_type": "stream",
          "name": "stdout",
          "text": [
            "Manual: [{'name': 'Juma', 'age': 10}, {'name': 'Bily', 'age': 25}, {'name': 'Agnes', 'age': 35}]\n",
            "AI-Suggested: [{'name': 'Juma', 'age': 10}, {'name': 'Bily', 'age': 25}, {'name': 'Agnes', 'age': 35}]\n"
          ]
        }
      ],
      "source": [
        "# 📘 AI-Powered Software Engineering Project\n",
        "\n",
        "\n",
        "# --------------------------------\n",
        "# Task 1: AI-Powered Code Completion\n",
        "# --------------------------------\n",
        "\n",
        "# ✅ Manual Implementation\n",
        "\n",
        "def sort_dicts_by_key(data, key):\n",
        "    return sorted(data, key=lambda x: x[key])\n",
        "\n",
        "# Sample Data\n",
        "people = [\n",
        "    {\"name\": \"Juma\", \"age\": 10},\n",
        "    {\"name\": \"Bily\", \"age\": 25},\n",
        "    {\"name\": \"Agnes\", \"age\": 35}\n",
        "]\n",
        "\n",
        "# Test\n",
        "sorted_manual = sort_dicts_by_key(people, \"age\")\n",
        "print(\"Manual:\", sorted_manual)\n",
        "\n",
        "# ✅ Simulated AI-Suggested Version (similar, as Copilot often suggests this pattern)\n",
        "def sort_people_by_key(people_list, key):\n",
        "    return sorted(people_list, key=lambda person: person.get(key, 0))\n",
        "\n",
        "sorted_ai = sort_people_by_key(people, \"age\")\n",
        "print(\"AI-Suggested:\", sorted_ai)"
      ]
    },
    {
      "cell_type": "markdown",
      "source": [
        "# ✅ Analysis Summary\n",
        "analysis_task1 = \"\"\"\n",
        "Both the manual and AI-suggested implementations use Python's built-in `sorted()` with a lambda function,\n",
        "resulting in efficient sorting via Timsort (O(n log n)).\n",
        "\n",
        "AI-generated solutions like Copilot enhance productivity by reducing the need to remember syntax or edge case handling.\n",
        "While both versions are equally efficient, the AI version saves time and minimizes cognitive load.\n",
        "\"\"\""
      ],
      "metadata": {
        "id": "c5u0mK9H6mCB"
      }
    },
    {
      "cell_type": "code",
      "source": [
        "# --------------------------------\n",
        "# Task 2: Automated Testing with AI (Selenium)\n",
        "# --------------------------------\n",
        "\n",
        "# 🚀 Install Requirements\n",
        "!apt-get update\n",
        "!apt install chromium-chromedriver -qq\n",
        "!cp /usr/lib/chromium-browser/chromedriver /usr/bin\n",
        "!pip install selenium fpdf\n",
        "\n",
        "# ✅ Test Script with Screenshot\n",
        "from selenium import webdriver\n",
        "from selenium.webdriver.chrome.options import Options\n",
        "from selenium.webdriver.common.by import By\n",
        "import time\n",
        "import os\n",
        "\n",
        "# Configure headless Chrome for Colab\n",
        "def run_selenium_tests():\n",
        "    options = Options()\n",
        "    options.add_argument('--headless')\n",
        "    options.add_argument('--no-sandbox')\n",
        "    options.add_argument('--disable-dev-shm-usage')\n",
        "\n",
        "    driver = webdriver.Chrome(options=options)\n",
        "\n",
        "    valid_path = \"valid_login.png\"\n",
        "    invalid_path = \"invalid_login.png\"\n",
        "\n",
        "    try:\n",
        "        # Valid Login Test\n",
        "        driver.get(\"https://practicetestautomation.com/practice-test-login/\")\n",
        "        driver.find_element(By.ID, \"username\").send_keys(\"student\")\n",
        "        driver.find_element(By.ID, \"password\").send_keys(\"Password123\")\n",
        "        driver.find_element(By.ID, \"submit\").click()\n",
        "        time.sleep(2)\n",
        "        driver.save_screenshot(valid_path)\n",
        "\n",
        "        # Invalid Login Test\n",
        "        driver.get(\"https://practicetestautomation.com/practice-test-login/\")\n",
        "        driver.find_element(By.ID, \"username\").send_keys(\"invalid\")\n",
        "        driver.find_element(By.ID, \"password\").send_keys(\"wrongpass\")\n",
        "        driver.find_element(By.ID, \"submit\").click()\n",
        "        time.sleep(2)\n",
        "        driver.save_screenshot(invalid_path)\n",
        "\n",
        "    except Exception as e:\n",
        "       print(f\"Could not regenerate screenshots for cleanup demo: {e}\")\n",
        "    finally:\n",
        "        driver.quit()\n",
        "\n",
        "        # Remove the generated screenshot files\n",
        "        if os.path.exists(valid_path):\n",
        "            os.remove(valid_path)\n",
        "            print(f\"Removed {valid_path}\")\n",
        "\n",
        "        if os.path.exists(invalid_path):\n",
        "            os.remove(invalid_path)\n",
        "            print(f\"Removed {invalid_path}\")\n",
        "\n",
        "    # If you generated new screenshots using the template, uncomment and add lines to remove them here:\n",
        "    # if os.path.exists(new_valid_path):\n",
        "    #     os.remove(new_valid_path)\n",
        "    #     print(f\"Removed {new_valid_path}\")\n",
        "    #\n",
        "    # if os.path.exists(new_invalid_path):\n",
        "    #     os.remove(new_invalid_path)\n",
        "    #     print(f\"Removed {new_invalid_path}\")\n",
        "\n",
        "\n",
        "    # Ensure the browser instance is closed (already done in the regeneration part, but good practice to include)\n",
        "    # driver.quit() # Uncomment this line if you remove the regeneration part above\n",
        "    print(\"Cleanup complete.\")\n",
        "    return valid_path, invalid_path\n",
        "\n",
        "valid_img, invalid_img = run_selenium_tests()"
      ],
      "metadata": {
        "id": "Utdt2eF_f5Lm",
        "colab": {
          "base_uri": "https://localhost:8080/"
        },
        "outputId": "0584c836-f540-40f0-9f9a-88168832e9a5"
      },
      "execution_count": null,
      "outputs": [
        {
          "output_type": "stream",
          "name": "stdout",
          "text": [
            "\r0% [Working]\r            \rHit:1 https://cloud.r-project.org/bin/linux/ubuntu jammy-cran40/ InRelease\n",
            "Hit:2 https://developer.download.nvidia.com/compute/cuda/repos/ubuntu2204/x86_64  InRelease\n",
            "Hit:3 http://archive.ubuntu.com/ubuntu jammy InRelease\n",
            "Hit:4 https://r2u.stat.illinois.edu/ubuntu jammy InRelease\n",
            "Hit:5 http://security.ubuntu.com/ubuntu jammy-security InRelease\n",
            "Hit:6 http://archive.ubuntu.com/ubuntu jammy-updates InRelease\n",
            "Hit:7 http://archive.ubuntu.com/ubuntu jammy-backports InRelease\n",
            "Hit:8 https://ppa.launchpadcontent.net/deadsnakes/ppa/ubuntu jammy InRelease\n",
            "Hit:9 https://ppa.launchpadcontent.net/graphics-drivers/ppa/ubuntu jammy InRelease\n",
            "Hit:10 https://ppa.launchpadcontent.net/ubuntugis/ppa/ubuntu jammy InRelease\n",
            "Reading package lists... Done\n",
            "W: Skipping acquire of configured file 'main/source/Sources' as repository 'https://r2u.stat.illinois.edu/ubuntu jammy InRelease' does not seem to provide it (sources.list entry misspelt?)\n",
            "chromium-chromedriver is already the newest version (1:85.0.4183.83-0ubuntu2.22.04.1).\n",
            "0 upgraded, 0 newly installed, 0 to remove and 36 not upgraded.\n",
            "cp: '/usr/lib/chromium-browser/chromedriver' and '/usr/bin/chromedriver' are the same file\n",
            "Requirement already satisfied: selenium in /usr/local/lib/python3.11/dist-packages (4.33.0)\n",
            "Requirement already satisfied: fpdf in /usr/local/lib/python3.11/dist-packages (1.7.2)\n",
            "Requirement already satisfied: urllib3~=2.4.0 in /usr/local/lib/python3.11/dist-packages (from urllib3[socks]~=2.4.0->selenium) (2.4.0)\n",
            "Requirement already satisfied: trio~=0.30.0 in /usr/local/lib/python3.11/dist-packages (from selenium) (0.30.0)\n",
            "Requirement already satisfied: trio-websocket~=0.12.2 in /usr/local/lib/python3.11/dist-packages (from selenium) (0.12.2)\n",
            "Requirement already satisfied: certifi>=2025.4.26 in /usr/local/lib/python3.11/dist-packages (from selenium) (2025.6.15)\n",
            "Requirement already satisfied: typing_extensions~=4.13.2 in /usr/local/lib/python3.11/dist-packages (from selenium) (4.13.2)\n",
            "Requirement already satisfied: websocket-client~=1.8.0 in /usr/local/lib/python3.11/dist-packages (from selenium) (1.8.0)\n",
            "Requirement already satisfied: attrs>=23.2.0 in /usr/local/lib/python3.11/dist-packages (from trio~=0.30.0->selenium) (25.3.0)\n",
            "Requirement already satisfied: sortedcontainers in /usr/local/lib/python3.11/dist-packages (from trio~=0.30.0->selenium) (2.4.0)\n",
            "Requirement already satisfied: idna in /usr/local/lib/python3.11/dist-packages (from trio~=0.30.0->selenium) (3.10)\n",
            "Requirement already satisfied: outcome in /usr/local/lib/python3.11/dist-packages (from trio~=0.30.0->selenium) (1.3.0.post0)\n",
            "Requirement already satisfied: sniffio>=1.3.0 in /usr/local/lib/python3.11/dist-packages (from trio~=0.30.0->selenium) (1.3.1)\n",
            "Requirement already satisfied: wsproto>=0.14 in /usr/local/lib/python3.11/dist-packages (from trio-websocket~=0.12.2->selenium) (1.2.0)\n",
            "Requirement already satisfied: pysocks!=1.5.7,<2.0,>=1.5.6 in /usr/local/lib/python3.11/dist-packages (from urllib3[socks]~=2.4.0->selenium) (1.7.1)\n",
            "Requirement already satisfied: h11<1,>=0.9.0 in /usr/local/lib/python3.11/dist-packages (from wsproto>=0.14->trio-websocket~=0.12.2->selenium) (0.16.0)\n",
            "Removed valid_login.png\n",
            "Removed invalid_login.png\n",
            "Cleanup complete.\n"
          ]
        }
      ]
    },
    {
      "cell_type": "markdown",
      "source": [
        "# ✅ Summary\n",
        "# ***summary_task2 ***\n",
        "AI-based test automation tools such as Testim or Selenium with smart locators improve test coverage by adapting\n",
        "to UI changes automatically and detecting dynamic elements. In this project, we simulated login test cases\n",
        "with valid and invalid inputs.\n",
        "\n",
        "Screenshots were taken to visually confirm test results, reducing ambiguity and improving debugging.\n",
        "AI makes the testing process scalable and less fragile.\n",
        "\"\"\""
      ],
      "metadata": {
        "id": "UAACj9VO7dE_"
      }
    },
    {
      "cell_type": "code",
      "source": [
        "# --------------------------------\n",
        "# Task 3: Predictive Analytics (Breast Cancer Dataset)\n",
        "# --------------------------------\n",
        "\n",
        "# ✅ Install and Import Libraries\n",
        "from sklearn.datasets import load_breast_cancer\n",
        "from sklearn.ensemble import RandomForestClassifier\n",
        "from sklearn.model_selection import train_test_split\n",
        "from sklearn.preprocessing import LabelEncoder\n",
        "from sklearn.metrics import accuracy_score, f1_score\n",
        "import pandas as pd\n",
        "\n",
        "# ✅ Load Dataset and Preprocess\n",
        "data = load_breast_cancer()\n",
        "df = pd.DataFrame(data.data, columns=data.feature_names)\n",
        "df['target'] = data.target\n",
        "\n",
        "# Simulate priority levels based on cancer class\n",
        "priority_map = {0: \"high\", 1: \"low\"}\n",
        "df['priority'] = df['target'].map(priority_map)\n",
        "\n",
        "# Encode labels\n",
        "le = LabelEncoder()\n",
        "df['priority_encoded'] = le.fit_transform(df['priority'])\n",
        "\n",
        "# ✅ Split Dataset\n",
        "X = df.drop(columns=[\"target\", \"priority\", \"priority_encoded\"])\n",
        "y = df['priority_encoded']\n",
        "X_train, X_test, y_train, y_test = train_test_split(X, y, test_size=0.2, random_state=42)\n",
        "\n",
        "# ✅ Train Model\n",
        "clf = RandomForestClassifier(random_state=42)\n",
        "clf.fit(X_train, y_train)\n",
        "\n",
        "# ✅ Evaluate Model\n",
        "y_pred = clf.predict(X_test)\n",
        "accuracy = accuracy_score(y_test, y_pred)\n",
        "f1 = f1_score(y_test, y_pred)\n",
        "\n",
        "print(\"Accuracy:\", accuracy)\n",
        "print(\"F1 Score:\", f1)\n",
        "\n",
        "\n",
        "\n",
        "# --------------------------------\n",
        "# Part 3: Ethical Reflection (10%)\n",
        "# --------------------------------\n",
        "\n",
        "ethical_reflection = \"\"\"\n",
        "Bias in AI models can emerge if training data underrepresents certain populations. In our breast cancer dataset,\n",
        "a model trained on predominantly one demographic may perform poorly on others.\n",
        "\n",
        "To address this, tools like IBM AI Fairness 360 can assess and mitigate bias using fairness metrics and bias\n",
        "mitigation algorithms. These tools promote accountability, especially in healthcare and HR settings,\n",
        "where fairness is crucial.\n",
        "\"\"\"\n",
        "\n",
        "# Display deliverables\n",
        "print(\"\\n=== Task 1 Analysis ===\\n\", analysis_task1)\n",
        "print(\"\\n=== Task 2 Summary ===\\n\", summary_task2)\n",
        "print(\"\\n=== Task 3 Summary ===\\n\", summary_task3)\n",
        "print(\"\\n=== Ethical Reflection ===\\n\", ethical_reflection)\n",
        "print(\"\\nScreenshots saved as:\", valid_img, \"and\", invalid_img)\n"
      ],
      "metadata": {
        "id": "HfaVZjotgCQq"
      },
      "execution_count": null,
      "outputs": []
    },
    {
      "cell_type": "markdown",
      "source": [
        "# ✅ Task 3 Summary\n",
        "summary_task3 = f\"\"\"\n",
        "The Random Forest model achieved an accuracy of {accuracy:.2f} and an F1 score of {f1:.2f}, indicating reliable classification\n",
        "of issue priority levels (high vs. low). This predictive model can help allocate attention to more urgent cases in real-world applications.\n",
        "\"\"\""
      ],
      "metadata": {
        "id": "epv0ovw48CGF"
      }
    },
    {
      "cell_type": "markdown",
      "source": [
        "Summary:\n",
        "Data Analysis Key Findings\n",
        "The saved screenshots (valid_login.png and invalid_login.png) were successfully displayed within the Colab environment using IPython.display.\n",
        "A PDF report (test_report.pdf) was generated using fpdf, embedding the two screenshots and including descriptive text for valid and invalid login test results.\n",
        "Guidance was provided on how to adapt the Selenium code for a different website, detailing the required changes to the target URL, element locators, and login credentials. A code template was also provided to facilitate this adaptation.\n",
        "The generated screenshot files (valid_login.png and invalid_login.png) were successfully removed using the os.remove() function, and the Selenium browser instance was closed using driver.quit().\n",
        "Insights or Next Steps\n",
        "The provided template for adapting the code to different websites is a valuable resource for users looking to apply the Selenium testing framework to their specific needs.\n",
        "While the template execution failed due to placeholder values, the explanation and structure provided in the code block are sufficient for a user to implement the changes for their target website."
      ],
      "metadata": {
        "id": "N7Wmws4ZESst"
      }
    }
  ]
}